{
 "cells": [
  {
   "cell_type": "markdown",
   "id": "768c66d0",
   "metadata": {},
   "source": [
    "# Assignment for Topic 1:  Linear Regression\n",
    "Hi, there! This assignment is created by @Xingjian and checked by Professor @Jiahui and @Chunmei.\n",
    "\n",
    "### Another Edition\n",
    "This is edition for jupyter notebook. About .py edition, please see attachment in this folder.\n",
    "\n",
    "### Boston Datasets\n",
    "Boston Dataset actually is a part of sklearn library which comes loaded with many datasets to introduce the topic of machine learning.\n",
    "\n",
    "Boston Dataset has 13 numerical features and a numerical target variable and is used for regression problem. The following is the brief discription of this dataset.\n",
    "\n",
    "First, we need to import the package we will use later. \n",
    "\n",
    "__REMARK__: If you use the edition of scikit-learn which is greater than 1.1.3 to run the following code, you wil get __Import Error__ because of the movement of this dataset. The instruction about this __Import Error__ says there exists some ethnical problem in Boston dataset. It doesn't matter in this assignment at all. But you need to pull the edition back to 1.1.3. "
   ]
  },
  {
   "cell_type": "code",
   "execution_count": 1,
   "id": "77ea19f5",
   "metadata": {},
   "outputs": [],
   "source": [
    "from sklearn.datasets import load_boston\n",
    "import pandas as pd"
   ]
  },
  {
   "cell_type": "markdown",
   "id": "2f0e179a",
   "metadata": {},
   "source": [
    "And now we need to load this dataset by using the variable __boston__"
   ]
  },
  {
   "cell_type": "code",
   "execution_count": 2,
   "id": "fb36179c",
   "metadata": {},
   "outputs": [
    {
     "name": "stderr",
     "output_type": "stream",
     "text": [
      "D:\\Users\\xxjan\\anaconda3\\envs\\xxjanpytorch\\lib\\site-packages\\sklearn\\utils\\deprecation.py:87: FutureWarning: Function load_boston is deprecated; `load_boston` is deprecated in 1.0 and will be removed in 1.2.\n",
      "\n",
      "    The Boston housing prices dataset has an ethical problem. You can refer to\n",
      "    the documentation of this function for further details.\n",
      "\n",
      "    The scikit-learn maintainers therefore strongly discourage the use of this\n",
      "    dataset unless the purpose of the code is to study and educate about\n",
      "    ethical issues in data science and machine learning.\n",
      "\n",
      "    In this special case, you can fetch the dataset from the original\n",
      "    source::\n",
      "\n",
      "        import pandas as pd\n",
      "        import numpy as np\n",
      "\n",
      "        data_url = \"http://lib.stat.cmu.edu/datasets/boston\"\n",
      "        raw_df = pd.read_csv(data_url, sep=\"\\s+\", skiprows=22, header=None)\n",
      "        data = np.hstack([raw_df.values[::2, :], raw_df.values[1::2, :2]])\n",
      "        target = raw_df.values[1::2, 2]\n",
      "\n",
      "    Alternative datasets include the California housing dataset (i.e.\n",
      "    :func:`~sklearn.datasets.fetch_california_housing`) and the Ames housing\n",
      "    dataset. You can load the datasets as follows::\n",
      "\n",
      "        from sklearn.datasets import fetch_california_housing\n",
      "        housing = fetch_california_housing()\n",
      "\n",
      "    for the California housing dataset and::\n",
      "\n",
      "        from sklearn.datasets import fetch_openml\n",
      "        housing = fetch_openml(name=\"house_prices\", as_frame=True)\n",
      "\n",
      "    for the Ames housing dataset.\n",
      "  warnings.warn(msg, category=FutureWarning)\n"
     ]
    }
   ],
   "source": [
    "boston = load_boston()"
   ]
  },
  {
   "cell_type": "markdown",
   "id": "b164a969",
   "metadata": {},
   "source": [
    "Then we will see the head of this dataset through the following dataframe."
   ]
  },
  {
   "cell_type": "code",
   "execution_count": 3,
   "id": "31ed783b",
   "metadata": {},
   "outputs": [
    {
     "data": {
      "text/html": [
       "<div>\n",
       "<style scoped>\n",
       "    .dataframe tbody tr th:only-of-type {\n",
       "        vertical-align: middle;\n",
       "    }\n",
       "\n",
       "    .dataframe tbody tr th {\n",
       "        vertical-align: top;\n",
       "    }\n",
       "\n",
       "    .dataframe thead th {\n",
       "        text-align: right;\n",
       "    }\n",
       "</style>\n",
       "<table border=\"1\" class=\"dataframe\">\n",
       "  <thead>\n",
       "    <tr style=\"text-align: right;\">\n",
       "      <th></th>\n",
       "      <th>CRIM</th>\n",
       "      <th>ZN</th>\n",
       "      <th>INDUS</th>\n",
       "      <th>CHAS</th>\n",
       "      <th>NOX</th>\n",
       "      <th>RM</th>\n",
       "      <th>AGE</th>\n",
       "      <th>DIS</th>\n",
       "      <th>RAD</th>\n",
       "      <th>TAX</th>\n",
       "      <th>PTRATIO</th>\n",
       "      <th>B</th>\n",
       "      <th>LSTAT</th>\n",
       "      <th>target</th>\n",
       "    </tr>\n",
       "  </thead>\n",
       "  <tbody>\n",
       "    <tr>\n",
       "      <th>172</th>\n",
       "      <td>0.13914</td>\n",
       "      <td>0.0</td>\n",
       "      <td>4.05</td>\n",
       "      <td>0.0</td>\n",
       "      <td>0.510</td>\n",
       "      <td>5.572</td>\n",
       "      <td>88.5</td>\n",
       "      <td>2.5961</td>\n",
       "      <td>5.0</td>\n",
       "      <td>296.0</td>\n",
       "      <td>16.6</td>\n",
       "      <td>396.90</td>\n",
       "      <td>14.69</td>\n",
       "      <td>23.1</td>\n",
       "    </tr>\n",
       "    <tr>\n",
       "      <th>182</th>\n",
       "      <td>0.09103</td>\n",
       "      <td>0.0</td>\n",
       "      <td>2.46</td>\n",
       "      <td>0.0</td>\n",
       "      <td>0.488</td>\n",
       "      <td>7.155</td>\n",
       "      <td>92.2</td>\n",
       "      <td>2.7006</td>\n",
       "      <td>3.0</td>\n",
       "      <td>193.0</td>\n",
       "      <td>17.8</td>\n",
       "      <td>394.12</td>\n",
       "      <td>4.82</td>\n",
       "      <td>37.9</td>\n",
       "    </tr>\n",
       "    <tr>\n",
       "      <th>24</th>\n",
       "      <td>0.75026</td>\n",
       "      <td>0.0</td>\n",
       "      <td>8.14</td>\n",
       "      <td>0.0</td>\n",
       "      <td>0.538</td>\n",
       "      <td>5.924</td>\n",
       "      <td>94.1</td>\n",
       "      <td>4.3996</td>\n",
       "      <td>4.0</td>\n",
       "      <td>307.0</td>\n",
       "      <td>21.0</td>\n",
       "      <td>394.33</td>\n",
       "      <td>16.30</td>\n",
       "      <td>15.6</td>\n",
       "    </tr>\n",
       "    <tr>\n",
       "      <th>423</th>\n",
       "      <td>7.05042</td>\n",
       "      <td>0.0</td>\n",
       "      <td>18.10</td>\n",
       "      <td>0.0</td>\n",
       "      <td>0.614</td>\n",
       "      <td>6.103</td>\n",
       "      <td>85.1</td>\n",
       "      <td>2.0218</td>\n",
       "      <td>24.0</td>\n",
       "      <td>666.0</td>\n",
       "      <td>20.2</td>\n",
       "      <td>2.52</td>\n",
       "      <td>23.29</td>\n",
       "      <td>13.4</td>\n",
       "    </tr>\n",
       "    <tr>\n",
       "      <th>328</th>\n",
       "      <td>0.06617</td>\n",
       "      <td>0.0</td>\n",
       "      <td>3.24</td>\n",
       "      <td>0.0</td>\n",
       "      <td>0.460</td>\n",
       "      <td>5.868</td>\n",
       "      <td>25.8</td>\n",
       "      <td>5.2146</td>\n",
       "      <td>4.0</td>\n",
       "      <td>430.0</td>\n",
       "      <td>16.9</td>\n",
       "      <td>382.44</td>\n",
       "      <td>9.97</td>\n",
       "      <td>19.3</td>\n",
       "    </tr>\n",
       "  </tbody>\n",
       "</table>\n",
       "</div>"
      ],
      "text/plain": [
       "        CRIM   ZN  INDUS  CHAS    NOX     RM   AGE     DIS   RAD    TAX  \\\n",
       "172  0.13914  0.0   4.05   0.0  0.510  5.572  88.5  2.5961   5.0  296.0   \n",
       "182  0.09103  0.0   2.46   0.0  0.488  7.155  92.2  2.7006   3.0  193.0   \n",
       "24   0.75026  0.0   8.14   0.0  0.538  5.924  94.1  4.3996   4.0  307.0   \n",
       "423  7.05042  0.0  18.10   0.0  0.614  6.103  85.1  2.0218  24.0  666.0   \n",
       "328  0.06617  0.0   3.24   0.0  0.460  5.868  25.8  5.2146   4.0  430.0   \n",
       "\n",
       "     PTRATIO       B  LSTAT  target  \n",
       "172     16.6  396.90  14.69    23.1  \n",
       "182     17.8  394.12   4.82    37.9  \n",
       "24      21.0  394.33  16.30    15.6  \n",
       "423     20.2    2.52  23.29    13.4  \n",
       "328     16.9  382.44   9.97    19.3  "
      ]
     },
     "execution_count": 3,
     "metadata": {},
     "output_type": "execute_result"
    }
   ],
   "source": [
    "df = pd.DataFrame(boston.data,columns= boston.feature_names)\n",
    "df['target'] = boston.target\n",
    "df.sample(5)"
   ]
  },
  {
   "cell_type": "markdown",
   "id": "828dca6d",
   "metadata": {},
   "source": [
    "We give new variables to denote the details just like following:"
   ]
  },
  {
   "cell_type": "code",
   "execution_count": 4,
   "id": "b0215960",
   "metadata": {},
   "outputs": [
    {
     "name": "stdout",
     "output_type": "stream",
     "text": [
      "[[6.3200e-03 1.8000e+01 2.3100e+00 0.0000e+00 5.3800e-01 6.5750e+00\n",
      "  6.5200e+01 4.0900e+00 1.0000e+00 2.9600e+02 1.5300e+01 3.9690e+02\n",
      "  4.9800e+00]\n",
      " [2.7310e-02 0.0000e+00 7.0700e+00 0.0000e+00 4.6900e-01 6.4210e+00\n",
      "  7.8900e+01 4.9671e+00 2.0000e+00 2.4200e+02 1.7800e+01 3.9690e+02\n",
      "  9.1400e+00]\n",
      " [2.7290e-02 0.0000e+00 7.0700e+00 0.0000e+00 4.6900e-01 7.1850e+00\n",
      "  6.1100e+01 4.9671e+00 2.0000e+00 2.4200e+02 1.7800e+01 3.9283e+02\n",
      "  4.0300e+00]\n",
      " [3.2370e-02 0.0000e+00 2.1800e+00 0.0000e+00 4.5800e-01 6.9980e+00\n",
      "  4.5800e+01 6.0622e+00 3.0000e+00 2.2200e+02 1.8700e+01 3.9463e+02\n",
      "  2.9400e+00]\n",
      " [6.9050e-02 0.0000e+00 2.1800e+00 0.0000e+00 4.5800e-01 7.1470e+00\n",
      "  5.4200e+01 6.0622e+00 3.0000e+00 2.2200e+02 1.8700e+01 3.9690e+02\n",
      "  5.3300e+00]]\n"
     ]
    },
    {
     "name": "stderr",
     "output_type": "stream",
     "text": [
      "D:\\Users\\xxjan\\anaconda3\\envs\\xxjanpytorch\\lib\\site-packages\\sklearn\\utils\\deprecation.py:87: FutureWarning: Function load_boston is deprecated; `load_boston` is deprecated in 1.0 and will be removed in 1.2.\n",
      "\n",
      "    The Boston housing prices dataset has an ethical problem. You can refer to\n",
      "    the documentation of this function for further details.\n",
      "\n",
      "    The scikit-learn maintainers therefore strongly discourage the use of this\n",
      "    dataset unless the purpose of the code is to study and educate about\n",
      "    ethical issues in data science and machine learning.\n",
      "\n",
      "    In this special case, you can fetch the dataset from the original\n",
      "    source::\n",
      "\n",
      "        import pandas as pd\n",
      "        import numpy as np\n",
      "\n",
      "        data_url = \"http://lib.stat.cmu.edu/datasets/boston\"\n",
      "        raw_df = pd.read_csv(data_url, sep=\"\\s+\", skiprows=22, header=None)\n",
      "        data = np.hstack([raw_df.values[::2, :], raw_df.values[1::2, :2]])\n",
      "        target = raw_df.values[1::2, 2]\n",
      "\n",
      "    Alternative datasets include the California housing dataset (i.e.\n",
      "    :func:`~sklearn.datasets.fetch_california_housing`) and the Ames housing\n",
      "    dataset. You can load the datasets as follows::\n",
      "\n",
      "        from sklearn.datasets import fetch_california_housing\n",
      "        housing = fetch_california_housing()\n",
      "\n",
      "    for the California housing dataset and::\n",
      "\n",
      "        from sklearn.datasets import fetch_openml\n",
      "        housing = fetch_openml(name=\"house_prices\", as_frame=True)\n",
      "\n",
      "    for the Ames housing dataset.\n",
      "  warnings.warn(msg, category=FutureWarning)\n"
     ]
    }
   ],
   "source": [
    "House_price_X, House_price_y = load_boston(return_X_y=True)\n",
    "print(House_price_X[0:5,:])"
   ]
  },
  {
   "cell_type": "code",
   "execution_count": 5,
   "id": "91de9b12",
   "metadata": {},
   "outputs": [
    {
     "name": "stdout",
     "output_type": "stream",
     "text": [
      "[24.  21.6 34.7 33.4 36.2]\n"
     ]
    }
   ],
   "source": [
    "print(House_price_y[0:5])"
   ]
  },
  {
   "cell_type": "markdown",
   "id": "59a85c38",
   "metadata": {},
   "source": [
    "Now we will use the class to realize the framework of linear regression based on this data. And before that, we need to use normalization to clean the data by using the following package: __sklearn.preproceesing.StandardScaler__."
   ]
  },
  {
   "cell_type": "code",
   "execution_count": 6,
   "id": "e14f1265",
   "metadata": {},
   "outputs": [],
   "source": [
    "from sklearn.preprocessing import StandardScaler\n",
    "import numpy as np\n",
    "House_price_yy = House_price_y.reshape(np.shape(House_price_y)[0],1)\n",
    "data = np.concatenate([House_price_X,House_price_yy],axis=1)\n",
    "mm = StandardScaler() #create the object for normalization\n",
    "mm_data = mm.fit_transform(data)\n",
    "origin_data = mm.inverse_transform(mm_data) # return back to original data"
   ]
  },
  {
   "cell_type": "markdown",
   "id": "8260f25b",
   "metadata": {},
   "source": [
    "### Linear Regression\n",
    "If we have $N$ independent variables $X=[x_{1},x_{2},...,x_{n}]$ and estimated value $Y = [y_{1},y_{2},...,y_{n}]$, then we can transfer linear regression into this form as following:\n",
    "\n",
    "$$\\left(\\begin{array}{cc} \n",
    "1 & x_{1}^{1} & x_{1}^{2} & ... & x_{1}^{n}\\\\\n",
    "1 & x_{2}^{1} & x_{2}^{2} & ... & x_{2}^{n}\\\\\n",
    "1 & x_{3}^{1} & x_{3}^{2} & ... & x_{3}^{n}\\\\\n",
    "\\vdots & \\vdots & \\vdots & ... & \\vdots\\\\\n",
    "1 & x_{m}^{1} & x_{m}^{2} & ... & x_{m}^{n}\\\\\n",
    "\\end{array}\\right)\\omega = \\left(\\begin{array}{cc} y_{1}\\\\y_{2}\\\\y_{3}\\\\...\\\\y_{n}\\end{array}\\right)$$\n",
    "where\n",
    "$$\\omega = [b, w_{1},w_{2},...,w_{n}]$$\n",
    "and $\\mathbf{b}$ is an intercept. Others are coefficients. We will note the following as the costs in this model\n",
    "$$\\mathscr{\\epsilon} = \\frac{1}{2m}\\sum_{i=1}^{m}(y_{i}-\\sum_{j=1}^{N}\\omega_{j}x_{j}-b_{i})^{2}$$\n",
    "\n",
    "we can rewrite it into the following form:\n",
    "$$\\mathscr{\\epsilon} = \\frac{1}{2m}(X\\omega-Y)^{T}(X\\omega-Y)$$\n",
    "\n",
    "\n",
    "Now as for its gradient flow, we can write it into this following:\n",
    "$$\\frac{\\partial \\mathscr{\\epsilon}}{\\partial \\omega} = \\frac{1}{m} (X^{T}X\\omega-X^{T}y)$$\n",
    "\n",
    "Then we write into numercial form to update the coefficient:\n",
    "$$\\omega_{n+1} = \\omega_{n}- \\frac{\\alpha}{m} (X^{T}X\\omega-X^{T}y)$$\n",
    "And $\\alpha$ means the step size of this iteration. Then we can finish this into our own edition of LinearRegression. We call it __LinearRegression2__."
   ]
  },
  {
   "cell_type": "code",
   "execution_count": 7,
   "id": "421b9a24",
   "metadata": {},
   "outputs": [],
   "source": [
    "import numpy as np\n",
    "np.random.seed(123)\n",
    "class LinearRegression2:\n",
    "    def __init__(self, M, N):\n",
    "        self.M = M\n",
    "        self.N = N        \n",
    "        self.coef_ = np.random.normal(0,1,size=(N,1))\n",
    "        self.intercept_ = np.random.rand(1).reshape(1,1)\n",
    "        \n",
    "    def fit(self, X, y):\n",
    "        weight_matrix = np.vstack((self.intercept_,self.coef_))\n",
    "        X_matrix = np.hstack((np.ones((self.M,1)),X))  \n",
    "        for i in range(1,10001):\n",
    "            self.dlossdw = np.matmul(np.matmul(X_matrix.transpose(),X_matrix),weight_matrix)-np.matmul(X_matrix.transpose(),y)            \n",
    "            weight_matrix -= 0.1*self.dlossdw/self.M\n",
    "        self.coef_ = weight_matrix[1:]\n",
    "        self.intercept_ =weight_matrix[0] \n",
    "        w = np.matmul(np.matmul(np.linalg.inv(np.matmul(X_matrix.transpose(),X_matrix)),X_matrix.transpose()),y)\n",
    "        print(w)\n",
    "        return self.coef_,self.intercept_\n",
    "        \n",
    "\n",
    "    def predict(self, X):\n",
    "        y_pred =  np.matmul(X,self.coef_)+self.intercept_\n",
    "        return y_pred\n",
    "        "
   ]
  },
  {
   "cell_type": "markdown",
   "id": "97e2251e",
   "metadata": {},
   "source": [
    "Now we can check it by using different dataset. We use the last 50 samples as the test set and other as the train set. But first, we can use this function to check the performance in sklearn packages."
   ]
  },
  {
   "cell_type": "code",
   "execution_count": 8,
   "id": "ebf0d19c",
   "metadata": {},
   "outputs": [
    {
     "name": "stdout",
     "output_type": "stream",
     "text": [
      "coef:[-0.09982641  0.12448473  0.02395217  0.06926076 -0.22137806  0.29220935\n",
      "  0.03220731 -0.32821927  0.34319385 -0.28379751 -0.21445223  0.09593903\n",
      " -0.43095081],  intercept:0.003169718662633665\n",
      "0.051649806709454606\n"
     ]
    }
   ],
   "source": [
    "from sklearn.linear_model import LinearRegression as LR\n",
    "def sklearn_sample(data,model2):\n",
    "    mm_test = data[-1-50:-1,:]\n",
    "    mm_train = data[:-2-50,:]\n",
    "    X_train = mm_train[:,:-1]\n",
    "    Y_train = mm_train[:,-1]\n",
    "    X_test = mm_test[:,:-1]\n",
    "    Y_test = mm_test[:,-1]\n",
    "    model = model2.fit(X_train,Y_train)\n",
    "    coef = model.coef_\n",
    "    intercept = model.intercept_\n",
    "    print(\"coef:{},  intercept:{}\".format(coef,intercept))\n",
    "    y_test = model.predict(X_test)\n",
    "    epsilon = (1/2)*np.mean((y_test-Y_test)**2)\n",
    "    print(epsilon)\n",
    "sklearn_sample(mm_data,LR())"
   ]
  },
  {
   "cell_type": "markdown",
   "id": "c0c4ce81",
   "metadata": {},
   "source": [
    "And our performance is:"
   ]
  },
  {
   "cell_type": "code",
   "execution_count": 9,
   "id": "a1ace268",
   "metadata": {},
   "outputs": [
    {
     "name": "stdout",
     "output_type": "stream",
     "text": [
      "[[ 0.00316972]\n",
      " [-0.09982641]\n",
      " [ 0.12448473]\n",
      " [ 0.02395217]\n",
      " [ 0.06926076]\n",
      " [-0.22137806]\n",
      " [ 0.29220935]\n",
      " [ 0.03220731]\n",
      " [-0.32821927]\n",
      " [ 0.34319385]\n",
      " [-0.28379751]\n",
      " [-0.21445223]\n",
      " [ 0.09593903]\n",
      " [-0.43095081]]\n",
      "coef:[[-0.09982641]\n",
      " [ 0.12448473]\n",
      " [ 0.02395217]\n",
      " [ 0.06926076]\n",
      " [-0.22137806]\n",
      " [ 0.29220935]\n",
      " [ 0.03220731]\n",
      " [-0.32821927]\n",
      " [ 0.34319385]\n",
      " [-0.28379751]\n",
      " [-0.21445223]\n",
      " [ 0.09593903]\n",
      " [-0.43095081]],  intercept:[0.00316972]\n",
      "0.26007764513473086\n"
     ]
    }
   ],
   "source": [
    "def myself_sample(data):\n",
    "    mm_test = data[-1-50:-1,:]\n",
    "    mm_train = data[:-2-50,:]\n",
    "    X_train = mm_train[:,:-1]\n",
    "    Y_train = mm_train[:,-1]\n",
    "    Y_train = Y_train.reshape(Y_train.shape[0],1)\n",
    "    X_test = mm_test[:,:-1]\n",
    "    Y_test = mm_test[:,-1]\n",
    "    M,N = np.shape(X_train)\n",
    "    model = LinearRegression2(M, N)\n",
    "    coef,intercept = model.fit(X_train,Y_train)\n",
    "    print(\"coef:{},  intercept:{}\".format(coef,intercept))\n",
    "    y_test = model.predict(X_test)\n",
    "    epsilon = (1/2)*np.mean((y_test-Y_test)**2)\n",
    "    print(epsilon)\n",
    "myself_sample(mm_data)"
   ]
  }
 ],
 "metadata": {
  "kernelspec": {
   "display_name": "Python 3 (ipykernel)",
   "language": "python",
   "name": "python3"
  },
  "language_info": {
   "codemirror_mode": {
    "name": "ipython",
    "version": 3
   },
   "file_extension": ".py",
   "mimetype": "text/x-python",
   "name": "python",
   "nbconvert_exporter": "python",
   "pygments_lexer": "ipython3",
   "version": "3.8.17"
  }
 },
 "nbformat": 4,
 "nbformat_minor": 5
}
