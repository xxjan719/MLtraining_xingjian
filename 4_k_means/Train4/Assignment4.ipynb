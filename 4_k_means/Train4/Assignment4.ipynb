{
 "cells": [
  {
   "cell_type": "markdown",
   "id": "8f2c28f4",
   "metadata": {},
   "source": [
    "## Assignment for Topic 4: Kmeans\n",
    "\n",
    "Hi,there! This assignment is created by @Xingjian and checked by Professor @Jiahui and @Chunmei.\n",
    "\n",
    "Another Edition\n",
    "This is an edition for jupyter notebook. About .py edition, please see attachment in this folder.\n",
    "\n",
    "### Datasets\n",
    "\n",
    "In this section, we still use the iris dataset for cluster problem in Machine Learning."
   ]
  },
  {
   "cell_type": "code",
   "execution_count": 1,
   "id": "966110bc",
   "metadata": {},
   "outputs": [],
   "source": [
    "from sklearn import datasets\n",
    "iris = datasets.load_iris()\n",
    "X = iris.data\n",
    "y = iris.target"
   ]
  },
  {
   "cell_type": "markdown",
   "id": "1c88920b",
   "metadata": {},
   "source": [
    "For dealing with data, we also need to normalize this dataset as following:"
   ]
  },
  {
   "cell_type": "code",
   "execution_count": 2,
   "id": "20c6de02",
   "metadata": {},
   "outputs": [],
   "source": [
    "from sklearn.preprocessing import StandardScaler\n",
    "#Normalize X\n",
    "scale = StandardScaler()\n",
    "scale.fit(X)\n",
    "X = scale.transform(X)"
   ]
  },
  {
   "cell_type": "markdown",
   "id": "0bf16ca7",
   "metadata": {},
   "source": [
    "### Randomly initalize K cluster centroids\n",
    "First, we wll initialize the K cluster centoids by picking K samples at random from the dataset X."
   ]
  },
  {
   "cell_type": "code",
   "execution_count": 3,
   "id": "1f264b82",
   "metadata": {},
   "outputs": [],
   "source": [
    "import numpy as np\n",
    "def initialize_random_centroids(K,X):\n",
    "    #randomly choose K centroid from X\n",
    "    m,n = np.shape(X)\n",
    "    centroids = np.empty((K,n))\n",
    "    for i in range(K):\n",
    "        centroids[i] = X[np.random.choice(range(m))]\n",
    "    return centroids"
   ]
  },
  {
   "cell_type": "markdown",
   "id": "f8f3ba7b",
   "metadata": {},
   "source": [
    "### Find the closest centroid \n",
    "\n",
    "Then before finding the closest centroid, we give the Euclidean distance to measure the distance between two points"
   ]
  },
  {
   "cell_type": "code",
   "execution_count": 4,
   "id": "055c0c83",
   "metadata": {},
   "outputs": [],
   "source": [
    "def Euclidean_dist(x,y):\n",
    "    return np.sqrt(np.sum(np.square(x-y)))\n",
    "\n",
    "def closets_centroid(x,centroids,K):\n",
    "    distances = np.empty(K)\n",
    "    for i in range(K):\n",
    "        distances[i] = Euclidean_dist(centroids[i], x)\n",
    "    return np.argmin(distances)"
   ]
  },
  {
   "cell_type": "markdown",
   "id": "01b1d850",
   "metadata": {},
   "source": [
    "### Make new cluster\n",
    "\n",
    "Then we get this, we can use index to deduce new cluster like following. And we also need to take care of about new mean of new cluster to deduce new cluster"
   ]
  },
  {
   "cell_type": "code",
   "execution_count": 5,
   "id": "5baa7360",
   "metadata": {},
   "outputs": [],
   "source": [
    "def cluster_make(K,X,centroids):\n",
    "    m = X.shape[0]\n",
    "    cluster_index = np.empty(m)\n",
    "    for i in range(m):\n",
    "        cluster_index[i] = closets_centroid(\n",
    "            X[i], centroids, K)\n",
    "    return cluster_index\n",
    "\n",
    "def cluster_mean(K,X,cluster_index):\n",
    "    n = X.shape[1]\n",
    "    centroids = np.empty((K,n))\n",
    "    for i in range(K):\n",
    "        points = X[cluster_index==i]\n",
    "        centroids[i] = np.mean(points,axis=0)\n",
    "    return centroids"
   ]
  },
  {
   "cell_type": "markdown",
   "id": "7c90d245",
   "metadata": {},
   "source": [
    "Then we can combine them together into a class:__kmean__"
   ]
  },
  {
   "cell_type": "code",
   "execution_count": 6,
   "id": "1ba1ad38",
   "metadata": {},
   "outputs": [],
   "source": [
    "class kmeans:\n",
    "    def __init__(self,X,k=3,iters=1000):\n",
    "        self.X = X\n",
    "        self.k = k\n",
    "        self.iters = iters\n",
    "        self.centers =initialize_random_centroids(k, X) \n",
    "        \n",
    "\n",
    "    def fit(self):\n",
    "        print('initial centroids:{}'.format(self.centers))\n",
    "        for _ in range(self.iters):\n",
    "            clusters = cluster_make(self.k, self.X, self.centers)\n",
    "            previous_centroids = self.centers\n",
    "            self.center = cluster_mean(self.k, self.X, clusters)\n",
    "            diff = previous_centroids - self.centers\n",
    "            if not diff.any():\n",
    "                return clusters\n",
    "        return clusters"
   ]
  },
  {
   "cell_type": "markdown",
   "id": "d5a0a0a2",
   "metadata": {},
   "source": [
    "We also need this measure to define the accuracy"
   ]
  },
  {
   "cell_type": "code",
   "execution_count": 7,
   "id": "950a3e07",
   "metadata": {},
   "outputs": [],
   "source": [
    "def accuracy(prediction, actual):\n",
    "    return np.sum(prediction == actual) / len(prediction)"
   ]
  },
  {
   "cell_type": "code",
   "execution_count": 8,
   "id": "e38d6cd4",
   "metadata": {},
   "outputs": [
    {
     "name": "stdout",
     "output_type": "stream",
     "text": [
      "initial centroids:[[-1.02184904 -0.13197948 -1.22655167 -1.3154443 ]\n",
      " [-0.05250608 -0.82256978  0.194384   -0.26238682]\n",
      " [ 0.55333328 -0.36217625  1.0469454   0.79067065]]\n",
      "[0. 0. 0. 0. 0. 0. 0. 0. 0. 0. 0. 0. 0. 0. 0. 0. 0. 0. 0. 0. 0. 0. 0. 0.\n",
      " 0. 0. 0. 0. 0. 0. 0. 0. 0. 0. 0. 0. 0. 0. 0. 0. 0. 0. 0. 0. 0. 0. 0. 0.\n",
      " 0. 0. 2. 2. 2. 1. 2. 1. 2. 1. 2. 1. 1. 1. 1. 2. 1. 2. 1. 1. 1. 1. 2. 1.\n",
      " 2. 1. 1. 2. 2. 2. 2. 1. 1. 1. 1. 2. 1. 2. 2. 1. 1. 1. 1. 2. 1. 1. 1. 1.\n",
      " 1. 1. 1. 1. 2. 2. 2. 2. 2. 2. 1. 2. 2. 2. 2. 2. 2. 2. 2. 2. 2. 2. 2. 1.\n",
      " 2. 2. 2. 2. 2. 2. 2. 2. 2. 2. 2. 2. 2. 2. 2. 2. 2. 2. 2. 2. 2. 2. 2. 2.\n",
      " 2. 2. 2. 2. 2. 2.]\n",
      "Accuracy on test set: 0.87\n"
     ]
    }
   ],
   "source": [
    "np.random.seed(7)\n",
    "myKM = kmeans(X, k=3)\n",
    "y_pred = myKM.fit() \n",
    "print(y_pred)\n",
    "print('Accuracy on test set: {:.2f}'.format(accuracy(y_pred, y)))"
   ]
  }
 ],
 "metadata": {
  "kernelspec": {
   "display_name": "Python 3 (ipykernel)",
   "language": "python",
   "name": "python3"
  },
  "language_info": {
   "codemirror_mode": {
    "name": "ipython",
    "version": 3
   },
   "file_extension": ".py",
   "mimetype": "text/x-python",
   "name": "python",
   "nbconvert_exporter": "python",
   "pygments_lexer": "ipython3",
   "version": "3.8.17"
  }
 },
 "nbformat": 4,
 "nbformat_minor": 5
}
